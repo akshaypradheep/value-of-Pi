{
  "nbformat": 4,
  "nbformat_minor": 0,
  "metadata": {
    "colab": {
      "name": "value-of-Pi.ipynb",
      "provenance": [],
      "authorship_tag": "ABX9TyN07qBoRB4HNdJqqHo5ePTF",
      "include_colab_link": true
    },
    "kernelspec": {
      "name": "python3",
      "display_name": "Python 3"
    }
  },
  "cells": [
    {
      "cell_type": "markdown",
      "metadata": {
        "id": "view-in-github",
        "colab_type": "text"
      },
      "source": [
        "<a href=\"https://colab.research.google.com/github/akshaypradheep/value-of-Pi/blob/master/value_of_Pi.ipynb\" target=\"_parent\"><img src=\"https://colab.research.google.com/assets/colab-badge.svg\" alt=\"Open In Colab\"/></a>"
      ]
    },
    {
      "cell_type": "code",
      "metadata": {
        "id": "ohSM5jEv_zeL",
        "colab_type": "code",
        "colab": {
          "base_uri": "https://localhost:8080/",
          "height": 54
        },
        "outputId": "14fe29dd-fa82-4fb4-f56a-a53f7c1a0813"
      },
      "source": [
        "n=int(input(\"Enther the limit of decimal points:\"))\n",
        "result=\"\"\n",
        "a=22\n",
        "b=7\n",
        "c=(a//b)\n",
        "result+=str(c)\n",
        "result+=str('.')\n",
        "for i in range(n):\n",
        "  d=(a%b)\n",
        "  a=d*10\n",
        "  c=(a//b)\n",
        "  result+=str(c)\n",
        "  if(d==0):\n",
        "    break\n",
        "print(result)"
      ],
      "execution_count": 6,
      "outputs": [
        {
          "output_type": "stream",
          "text": [
            "Enther the limit of decimal points:30\n",
            "3.142857142857142857142857142857\n"
          ],
          "name": "stdout"
        }
      ]
    }
  ]
}